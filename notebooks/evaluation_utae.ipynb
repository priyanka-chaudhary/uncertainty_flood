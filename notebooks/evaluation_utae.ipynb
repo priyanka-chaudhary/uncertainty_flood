{
 "cells": [
  {
   "cell_type": "code",
   "execution_count": null,
   "metadata": {},
   "outputs": [],
   "source": [
    "from PIL import Image\n",
    "import numpy as np\n",
    "import matplotlib.pyplot as plt\n",
    "import matplotlib\n",
    "import json\n",
    "import time\n",
    "import copy\n",
    "import linecache\n",
    "import gzip\n",
    "import pickle\n",
    "import itertools\n",
    "from sklearn.preprocessing import MinMaxScaler\n",
    "import datetime\n",
    "from torchsummary import summary\n",
    "from torch.utils.tensorboard import SummaryWriter\n",
    "import torch\n",
    "from torch import nn, optim\n",
    "from torch.utils.data import TensorDataset, DataLoader\n",
    "from torch.utils.data.dataset import Dataset\n",
    "from torch.nn import functional as F\n",
    "\n",
    "import sys, argparse, os\n",
    "import numpy as np\n",
    "import random\n",
    "import sys, argparse, os\n",
    "\n",
    "import torch.nn.functional as F\n",
    "import torch.utils.data as torchdata\n",
    "\n",
    "sys.path.insert(0, '../')\n",
    "sys.path.append(\"/scratch2/ml_flood/mlflood/\")\n",
    "from pathlib import Path\n",
    "from mlflood.conf import PATH_DATA\n",
    "from mlflood.conf import rain_const, waterdepth_diff_const\n",
    "import h5py\n",
    "import pandas as pd\n",
    "\n",
    "from torch.utils.tensorboard import SummaryWriter\n",
    "from mlflood.utils import new_log\n",
    "from models.utae import UTAE\n",
    "from models.CNNrolling import CNNrolling\n",
    "from models.unet3d import UNet3D\n",
    "from models.unet import UNet\n",
    "from dataset_utae import load_test_dataset, dataloader_args_utae_test\n",
    "\n",
    "from training import *\n",
    "#from developing_suite4 import *"
   ]
  },
  {
   "cell_type": "code",
   "execution_count": null,
   "metadata": {},
   "outputs": [],
   "source": [
    "path_exp = \"/scratch2/ml_flood/data/checkpoints/709/cluster/utae_L1/experiment_0/\"\n",
    "path_exp = \"/scratch2/ml_flood/data/checkpoints/709/utae_temp/experiment_6/\""
   ]
  },
  {
   "cell_type": "code",
   "execution_count": null,
   "metadata": {},
   "outputs": [],
   "source": [
    "device = torch.device(\"cuda\" if torch.cuda.is_available() else \"cpu\")\n",
    "print('Using: ', device)\n",
    "args = []   "
   ]
  },
  {
   "cell_type": "code",
   "execution_count": null,
   "metadata": {},
   "outputs": [],
   "source": [
    "parser = argparse.ArgumentParser(description=\"evaluation\")\n",
    "parser.add_argument(\"--catchment_kwargs\", default='./default_catchment_kwargs.yml', type=str, \n",
    "                    help=\"path to catchment kwargs saved in yml file\")\n",
    "\n",
    "exp_hp = ['--catchment_kwargs=../mlflood/exp_yml/exp_8_utae_temp.yml']\n",
    "args = parser.parse_args(exp_hp)\n",
    "\n",
    "with open(args.catchment_kwargs) as file:\n",
    "    catchment_kwargs = yaml.full_load(file)\n",
    "    \n",
    "# Always in eval mode\n",
    "catchment_kwargs['fix_indexes'] = True "
   ]
  },
  {
   "cell_type": "code",
   "execution_count": null,
   "metadata": {},
   "outputs": [],
   "source": [
    "dataloaders = {}\n",
    "dataset = load_test_dataset(catchment_kwargs)\n",
    "                                                             \n",
    "dataloaders[\"test\"] = dataloader_args_utae_test(dataset, catchment_num = catchment_kwargs['num'])\n",
    "dataset_test = dataloaders[\"test\"]"
   ]
  },
  {
   "cell_type": "code",
   "execution_count": null,
   "metadata": {
    "scrolled": true,
    "tags": []
   },
   "outputs": [],
   "source": [
    "model = UTAE(args)  # You don't need args in UTAE\n",
    "file_path1 = path_exp + \"model.pth.tar\"\n",
    "model.load_state_dict(torch.load(file_path1))\n",
    "model.cuda()"
   ]
  },
  {
   "cell_type": "code",
   "execution_count": null,
   "metadata": {},
   "outputs": [],
   "source": [
    "from evaluation import predict_event \n",
    "\n",
    "event_num = 0\n",
    "start_ts = None    # start t_s should be 5 since timestep = 5 (it should have returned an error, why not)?\n",
    "start_ts = 5\n",
    "# timestep = 12\n",
    "\n",
    "pred_cnn, gt_cnn, mask_cnn = predict_event(model, dataset, event_num, start_ts, ar = False)  "
   ]
  },
  {
   "cell_type": "code",
   "execution_count": null,
   "metadata": {},
   "outputs": [],
   "source": [
    "from evaluation import numpy2movie \n",
    "\n",
    "animation = numpy2movie(pred_cnn, gt_cnn)\n",
    "animation.ipython_display(fps=10, loop=True, autoplay=True)"
   ]
  },
  {
   "cell_type": "code",
   "execution_count": null,
   "metadata": {},
   "outputs": [],
   "source": [
    "zoom = [500,1000,500,1000]\n",
    "save_folder = \"/scratch2/ml_flood/data/checkpoints/709/cluster/utae_L1/experiment_0/results/c_recons/\"\n",
    "plot_answer_sample(pred_cnn, gt_cnn, mask_cnn, ts=1, zoom=None, show_diff=False, global_scale=True, save_folder = None, model_name = 'cnn')"
   ]
  },
  {
   "cell_type": "code",
   "execution_count": null,
   "metadata": {},
   "outputs": [],
   "source": [
    "zoom = [500,1000,500,1000]\n",
    "plot_answer_sample(pred_cnn, gt_cnn, mask_cnn, ts=1, zoom=zoom, show_diff=False, global_scale=True, save_folder = None, model_name = 'cnn')"
   ]
  },
  {
   "cell_type": "code",
   "execution_count": null,
   "metadata": {},
   "outputs": [],
   "source": [
    "zoom = [1500,2000,0,500]\n",
    "plot_answer_sample(pred_cnn, gt_cnn, mask_cnn, ts=1, zoom=zoom, show_diff=False, global_scale=True, save_folder = None, model_name = 'cnn')"
   ]
  },
  {
   "cell_type": "code",
   "execution_count": null,
   "metadata": {},
   "outputs": [],
   "source": [
    "zoom = [2000,2500,1000,2000]\n",
    "save_folder = \"/scratch2/ml_flood/data/checkpoints/709/cluster/utae_L1/experiment_0/results/c_recons/\"\n",
    "plot_answer_sample(pred_cnn, gt_cnn, mask_cnn, ts=1, zoom=zoom, show_diff=False, global_scale=True, save_folder = None, model_name = 'cnn')"
   ]
  },
  {
   "cell_type": "code",
   "execution_count": null,
   "metadata": {},
   "outputs": [],
   "source": [
    "from evaluation import mae_event, plot_maes\n",
    "\n",
    "maes = mae_event(pred_cnn, gt_cnn)\n",
    "print(maes.shape)\n",
    "plot_maes(maes, [\"utae\"],  title = f\"MAE for {1+12} ts ahead\")"
   ]
  },
  {
   "cell_type": "code",
   "execution_count": null,
   "metadata": {},
   "outputs": [],
   "source": [
    "len(maes)"
   ]
  },
  {
   "cell_type": "code",
   "execution_count": null,
   "metadata": {},
   "outputs": [],
   "source": [
    "pred_cnn.shape"
   ]
  },
  {
   "cell_type": "code",
   "execution_count": null,
   "metadata": {},
   "outputs": [],
   "source": [
    "a = abs(pred_cnn-gt_cnn)\n",
    "mae_ev = []\n",
    "for i in range(43):\n",
    "    t = np.mean(a[i,:,:])\n",
    "    mae_ev.append(t)\n",
    "len(mae_ev)"
   ]
  },
  {
   "cell_type": "code",
   "execution_count": null,
   "metadata": {},
   "outputs": [],
   "source": [
    "t = np.arange(len(mae_ev))\n",
    "plt.plot(t, mae_ev, label=\"utae\")\n",
    "plt.legend()\n",
    "#plt.tight_layout()\n",
    "plt.ylabel('Absolute Error (cm)')\n",
    "plt.xlabel('Timesteps')\n",
    "# filename = save_folder + 'Mae_' + \"ev0\" +'.png'\n",
    "# plt.savefig(filename, dpi=1200)"
   ]
  },
  {
   "cell_type": "code",
   "execution_count": null,
   "metadata": {},
   "outputs": [],
   "source": [
    "print(mae_ev)"
   ]
  },
  {
   "cell_type": "code",
   "execution_count": null,
   "metadata": {},
   "outputs": [],
   "source": []
  },
  {
   "cell_type": "code",
   "execution_count": null,
   "metadata": {},
   "outputs": [],
   "source": []
  }
 ],
 "metadata": {
  "kernelspec": {
   "display_name": "MLflood",
   "language": "python",
   "name": "mlflood"
  },
  "language_info": {
   "codemirror_mode": {
    "name": "ipython",
    "version": 3
   },
   "file_extension": ".py",
   "mimetype": "text/x-python",
   "name": "python",
   "nbconvert_exporter": "python",
   "pygments_lexer": "ipython3",
   "version": "3.9.6"
  }
 },
 "nbformat": 4,
 "nbformat_minor": 4
}
