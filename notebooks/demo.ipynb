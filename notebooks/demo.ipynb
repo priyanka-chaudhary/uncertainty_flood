{
 "cells": [
  {
   "cell_type": "code",
   "execution_count": null,
   "metadata": {},
   "outputs": [],
   "source": [
    "%load_ext autoreload\n",
    "%autoreload 2\n",
    "%matplotlib inline"
   ]
  },
  {
   "cell_type": "code",
   "execution_count": null,
   "metadata": {},
   "outputs": [],
   "source": [
    "# import sys\n",
    "# sys.path.insert(0, '../') # you should not need to uncomment this!\n",
    "# import warnings\n",
    "# warnings.filterwarnings(\"ignore\", category=DeprecationWarning) "
   ]
  },
  {
   "cell_type": "code",
   "execution_count": null,
   "metadata": {},
   "outputs": [],
   "source": [
    "import torch\n",
    "from pathlib import Path\n",
    "import matplotlib.pyplot as plt\n",
    "\n",
    "from poutyne import Model, SKLearnMetrics\n",
    "from sklearn.metrics import r2_score, explained_variance_score, mean_squared_error, median_absolute_error\n",
    "from mlflood.dataset import load_dataset\n",
    "from mlflood.models.CNNrolling import CNNrolling\n",
    "from mlflood.models.unet import UNet\n",
    "from mlflood.utils import metric_flatten, get_poutyne_callbacks, saferm\n",
    "from torchsummary import summary\n",
    "import numpy as np"
   ]
  },
  {
   "cell_type": "code",
   "execution_count": null,
   "metadata": {},
   "outputs": [],
   "source": [
    "cuda_device = 0\n",
    "device = torch.device(\"cuda:%d\" % cuda_device if torch.cuda.is_available() else \"cpu\")"
   ]
  },
  {
   "cell_type": "code",
   "execution_count": null,
   "metadata": {},
   "outputs": [],
   "source": [
    "catchment_num = \"toy\"\n",
    "experiment_name = \"test\"\n",
    "border_size = 0\n",
    "\n",
    "# parameter for the catchment\n",
    "catchment_kwargs = {}\n",
    "catchment_kwargs[\"tau\"]=0.5\n",
    "catchment_kwargs[\"timestep\"]=3                # for timestep >1 use CNN rolling or Unet\n",
    "catchment_kwargs[\"sample_type\"]=\"full\"\n",
    "catchment_kwargs[\"dim_patch\"]=60\n",
    "catchment_kwargs[\"fix_indexes\"]=False\n",
    "catchment_kwargs[\"border_size\"] = border_size\n",
    "\n",
    "# optimization paramters\n",
    "optimization_kwargs = {}\n",
    "optimization_kwargs[\"batch_size\"] = 8\n",
    "optimization_kwargs[\"epochs\"] = 2             \n",
    "\n"
   ]
  },
  {
   "cell_type": "code",
   "execution_count": null,
   "metadata": {},
   "outputs": [],
   "source": [
    "inp_dim = 1 + catchment_kwargs[\"timestep\"]*2\n",
    "print('Input dim: ', inp_dim)"
   ]
  },
  {
   "cell_type": "code",
   "execution_count": null,
   "metadata": {},
   "outputs": [],
   "source": [
    "network = CNNrolling(border_size=border_size, timestep = catchment_kwargs[\"timestep\"])\n",
    "# summary(network, [(inp_dim, 120,120), (1,120,120)])"
   ]
  },
  {
   "cell_type": "code",
   "execution_count": null,
   "metadata": {},
   "outputs": [],
   "source": [
    "def get_l1_loss_weight(output, target):\n",
    "    mask = output[:,1]\n",
    "    predictions =  output[:,0]\n",
    "    target = target[:,0]\n",
    "    predictions = torch.mul(predictions, mask)\n",
    "    loss = torch.abs(predictions  - target)\n",
    "#     a = target > 0.2\n",
    "#     loss[a] = loss[a] *4\n",
    "    loss = loss.sum()/(torch.sum(mask.float()))\n",
    "    return loss   # comput the mean only considering elemnts in the mask\n"
   ]
  },
  {
   "cell_type": "code",
   "execution_count": null,
   "metadata": {},
   "outputs": [],
   "source": [
    "model = Model(network, 'adam', get_l1_loss_weight,\n",
    "              batch_metrics=[\"l1\"],\n",
    "              epoch_metrics=[ SKLearnMetrics(metric_flatten(r2_score)), \n",
    "                              SKLearnMetrics(metric_flatten(explained_variance_score)), \n",
    "                              SKLearnMetrics(metric_flatten(mean_squared_error)), \n",
    "                              SKLearnMetrics(metric_flatten(median_absolute_error))\n",
    "                            ],\n",
    "              device=device)"
   ]
  },
  {
   "cell_type": "code",
   "execution_count": null,
   "metadata": {},
   "outputs": [],
   "source": [
    "# Get callbacks for tensorboard and saving the model\n",
    "callbacks, summary_dir, checkpoint_dir = get_poutyne_callbacks(experiment_name)"
   ]
  },
  {
   "cell_type": "code",
   "execution_count": null,
   "metadata": {},
   "outputs": [],
   "source": [
    "train_dataset, valid_dataset = load_dataset(catchment_num=catchment_num, **catchment_kwargs)"
   ]
  },
  {
   "cell_type": "code",
   "execution_count": null,
   "metadata": {},
   "outputs": [],
   "source": [
    "plt.imshow(train_dataset.dem)\n",
    "plt.colorbar()"
   ]
  },
  {
   "cell_type": "code",
   "execution_count": null,
   "metadata": {
    "scrolled": true,
    "tags": []
   },
   "outputs": [],
   "source": [
    "saferm(summary_dir)\n",
    "saferm(checkpoint_dir)\n",
    "summary_dir.mkdir(parents=True, exist_ok=True)\n",
    "checkpoint_dir.mkdir(parents=True, exist_ok=True)\n",
    "\n",
    "history = model.fit_dataset(train_dataset, valid_dataset=valid_dataset, **optimization_kwargs, callbacks=callbacks) "
   ]
  },
  {
   "cell_type": "code",
   "execution_count": null,
   "metadata": {},
   "outputs": [],
   "source": [
    "e = [v['epoch'] for v in history]\n",
    "val_loss = [v['val_loss'] for v in history]\n",
    "train_loss = [v['loss'] for v in history]\n",
    "plt.plot(e, train_loss, label=\"Training MSE\")\n",
    "plt.plot(e, val_loss, label=\"Validation MSE\")\n",
    "plt.xlabel(\"Epochs\")\n",
    "plt.legend()"
   ]
  },
  {
   "cell_type": "markdown",
   "metadata": {},
   "source": [
    "### Mse for CNN"
   ]
  },
  {
   "cell_type": "code",
   "execution_count": null,
   "metadata": {},
   "outputs": [],
   "source": [
    "dataset = valid_dataset"
   ]
  },
  {
   "cell_type": "code",
   "execution_count": null,
   "metadata": {},
   "outputs": [],
   "source": [
    "from mlflood.evaluation import pred_1step, comp_mse_ag\n",
    "\n",
    "predictions_ag = pred_1step(model, dataset)\n",
    "\n",
    "timestep = catchment_kwargs[\"timestep\"]\n",
    "\n",
    "mse_roll = comp_mse_ag(predictions_ag)\n",
    "for event_n in range(len(predictions_ag)):\n",
    "    mse_roll[event_n] = np.insert(mse_roll[event_n], 0, [0]*(timestep-1))\n",
    "\n",
    "t = np.arange(1,len(dataset.rainfall_events[0]))\n",
    "\n",
    "plt.gca().set_prop_cycle(plt.cycler('color', plt.cm.jet(np.linspace(0, 2,2))))\n",
    "plt.plot(t, mse_roll[0].T, \"-\", label=\"Rolling CNN event 1\")\n",
    "plt.plot(t, mse_roll[1].T, \"-\", label=\"Rolling CNN event 2\")\n",
    "\n",
    "plt.xlabel(\"Time [step]\")\n",
    "plt.ylabel(\"MSE\")\n",
    "plt.legend()"
   ]
  },
  {
   "cell_type": "markdown",
   "metadata": {},
   "source": [
    "### MSE for comparing 1 step prediction of current model with baseline "
   ]
  },
  {
   "cell_type": "code",
   "execution_count": null,
   "metadata": {},
   "outputs": [],
   "source": [
    "from mlflood.evaluation import pred_1step, comp_mse_ag, base_model\n",
    "\n",
    "dataset = valid_dataset\n",
    "\n",
    "predictions_ag = pred_1step(base_model(), dataset)\n",
    "base_mse = comp_mse_ag(predictions_ag)\n",
    "for event_n in range(len(predictions_ag)):\n",
    "    base_mse[event_n] = np.insert(base_mse[event_n], 0, [0]*(timestep-1))\n",
    "base_mse = np.array(base_mse)\n",
    "\n",
    "\n",
    "predictions_ag = pred_1step(model, dataset)\n",
    "mse = comp_mse_ag(predictions_ag)\n",
    "for event_n in range(len(predictions_ag)):\n",
    "    mse[event_n] = np.insert(mse[event_n], 0, [0]*(timestep-1))\n",
    "mse = np.array(mse)\n",
    "    \n",
    "\n",
    "t = np.arange(1,len(dataset.rainfall_events[0]))\n",
    "\n",
    "plt.gca().set_prop_cycle(plt.cycler('color', plt.cm.jet(np.linspace(0, 2,2))))\n",
    "plt.plot(t, base_mse.T, \"--\", label=\"Baseline\")\n",
    "plt.plot(t, mse.T, \"-\", label=\"CNN model\")\n",
    "\n",
    "plt.xlabel(\"Time [step]\")\n",
    "plt.ylabel(\"MSE\")\n",
    "plt.legend()"
   ]
  },
  {
   "cell_type": "markdown",
   "metadata": {},
   "source": [
    "### Mse only in Autoregressive mode (timestep=1)"
   ]
  },
  {
   "cell_type": "code",
   "execution_count": null,
   "metadata": {},
   "outputs": [],
   "source": [
    "from mlflood.evaluation import pred_ag, comp_mse_ag, base_model\n",
    "\n",
    "predictions_ag = pred_ag(base_model(), dataset)\n",
    "base_mse = np.array(comp_mse_ag(predictions_ag))\n",
    "\n",
    "predictions_ag = pred_ag(model, dataset)\n",
    "mse = np.array(comp_mse_ag(predictions_ag))\n",
    "\n",
    "t = np.arange(dataset.timestep,len(dataset.rainfall_events[0]))\n",
    "\n",
    "plt.gca().set_prop_cycle(plt.cycler('color', plt.cm.jet(np.linspace(0, 2,2))))\n",
    "plt.plot(t, base_mse.T, \"--\", label=\"Baseline\")\n",
    "plt.plot(t, mse.T, \"-\", label=\"Base CNN\")\n",
    "\n",
    "plt.xlabel(\"Time [step]\")\n",
    "plt.ylabel(\"MSE\")\n",
    "plt.legend()\n",
    "\n"
   ]
  },
  {
   "cell_type": "markdown",
   "metadata": {},
   "source": [
    "### Display current model result"
   ]
  },
  {
   "cell_type": "code",
   "execution_count": null,
   "metadata": {},
   "outputs": [],
   "source": [
    "from mlflood.evaluation import numpy2movie\n",
    "predictions_ag = pred_1step(model, dataset)               # use pred_ag for prediction in autoregressive model\n",
    "\n",
    "animation = numpy2movie(*predictions_ag[0])\n",
    "animation.ipython_display(fps=10, loop=True, autoplay=True)"
   ]
  },
  {
   "cell_type": "code",
   "execution_count": null,
   "metadata": {},
   "outputs": [],
   "source": []
  },
  {
   "cell_type": "code",
   "execution_count": null,
   "metadata": {},
   "outputs": [],
   "source": []
  }
 ],
 "metadata": {
  "interpreter": {
   "hash": "11bc0e077dd1f66009a37e95033a44e9687d2cbe7708eaf38c24c0670cc167b9"
  },
  "kernelspec": {
   "display_name": "Python 3",
   "language": "python",
   "name": "python3"
  },
  "language_info": {
   "codemirror_mode": {
    "name": "ipython",
    "version": 3
   },
   "file_extension": ".py",
   "mimetype": "text/x-python",
   "name": "python",
   "nbconvert_exporter": "python",
   "pygments_lexer": "ipython3",
   "version": "3.9.1"
  }
 },
 "nbformat": 4,
 "nbformat_minor": 4
}
