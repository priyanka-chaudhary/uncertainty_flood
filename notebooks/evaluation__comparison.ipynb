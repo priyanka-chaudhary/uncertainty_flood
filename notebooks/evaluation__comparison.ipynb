{
 "cells": [
  {
   "cell_type": "code",
   "execution_count": null,
   "id": "60c09deb",
   "metadata": {},
   "outputs": [],
   "source": [
    "%load_ext autoreload\n",
    "%autoreload 2\n",
    "%matplotlib inline"
   ]
  },
  {
   "cell_type": "code",
   "execution_count": null,
   "id": "7c283b98",
   "metadata": {},
   "outputs": [],
   "source": [
    "# from PIL import Image\n",
    "import numpy as np\n",
    "import matplotlib.pyplot as plt\n",
    "import matplotlib\n",
    "import json\n",
    "\n",
    "from torch.utils.data import TensorDataset, DataLoader\n",
    "from torch.utils.data.dataset import Dataset\n",
    "\n",
    "import sys, argparse, os\n",
    "import numpy as np\n",
    "import pandas as pd\n",
    "import random\n",
    "\n",
    "import torch.nn.functional as F\n",
    "import torch.utils.data as torchdata\n",
    "\n",
    "sys.path.insert(0, '../')\n",
    "sys.path.append(\"/scratch2/ml_flood/mlflood/\")\n",
    "from pathlib import Path\n",
    "from mlflood.conf import PATH_DATA\n",
    "from mlflood.conf import rain_const, waterdepth_diff_const\n",
    "import h5py\n",
    "\n",
    "from torch.utils.tensorboard import SummaryWriter\n",
    "from mlflood.utils import new_log\n",
    "from models.utae import UTAE\n",
    "from models.utae_old import UTAE as UTAE_old\n",
    "from models.CNNrolling import CNNrolling\n",
    "from models.unet3d import UNet3D\n",
    "from models.unet import UNet\n",
    "from dataset_utae import load_test_dataset, dataloader_args_utae_test\n",
    "from dataset_old import load_test_dataset as load_test_unet\n",
    "from dataset_old import dataloader_args_test\n",
    "\n",
    "from training import *\n",
    "\n",
    "from evaluation import predict_event, predict_batch, mae_event\n",
    "from evaluation import plot_maes, multiboxplot, plot_answer_sample, boxplot_mae\n",
    "\n",
    "device = torch.device(\"cuda\" if torch.cuda.is_available() else \"cpu\")\n",
    "print('Using: ', device)\n",
    "args = []   "
   ]
  },
  {
   "cell_type": "code",
   "execution_count": null,
   "id": "2c44fab7",
   "metadata": {},
   "outputs": [],
   "source": [
    "path_exp_utae = \"/scratch2/ml_flood/data/checkpoints/709/cluster/utae_L1/experiment_0/\"\n",
    "# path_exp_utae = \"/scratch2/ml_flood/data/checkpoints/709/cluster/may_24/utae_head_8/experiment_0/\"\n",
    "\n",
    "path_exp_cnn = \"/scratch2/ml_flood/data/checkpoints/709/cluster/cnn_temp/experiment_0/\"\n",
    "# path_exp_cnn = \"/scratch2/ml_flood/data/checkpoints/709/cluster/apr_22/utae_L1_upd/experiment_5/\"\n",
    "# path_exp_cnn_1 = \"/scratch2/ml_flood/data/checkpoints/709/cnn_temp/experiment_5/\"\n",
    "\n",
    "path_exp_unet = \"/scratch2/ml_flood/data/checkpoints/709/cluster/unet_temp/experiment_0/\"\n",
    "# path_exp_unet = \"/scratch2/ml_flood/data/checkpoints/709/cluster/may_24/utae_head_32/experiment_0/\"\n",
    "\n",
    "# path_exp_utae64 = \"/scratch2/ml_flood/data/checkpoints/709/cluster/may_24/utae_head_64/experiment_0/\""
   ]
  },
  {
   "cell_type": "markdown",
   "id": "f773f230",
   "metadata": {},
   "source": [
    "***In order for the models to be compared they should be run with the same hp (batch size, predict_ahead, dim_patch, timestep)...in this way, we can use the same test data***"
   ]
  },
  {
   "cell_type": "code",
   "execution_count": null,
   "id": "42ad6550",
   "metadata": {},
   "outputs": [],
   "source": [
    "## Stefania ##\n",
    "parser = argparse.ArgumentParser(description=\"evaluation\")\n",
    "parser.add_argument('--n_head', type=int, default=16)\n",
    "parser.add_argument(\"--catchment_kwargs\", default='./default_catchment_kwargs.yml', type=str, \n",
    "                    help=\"path to catchment kwargs saved in yml file\")\n",
    "\n",
    "exp_hp = ['--catchment_kwargs=../mlflood/exp_yml/exp_utae.yml']\n",
    "args = parser.parse_args(exp_hp)\n",
    "\n",
    "with open(args.catchment_kwargs) as file:\n",
    "    catchment_kwargs = yaml.full_load(file)\n",
    "    \n",
    "# Always in eval mode\n",
    "catchment_kwargs['fix_indexes'] = True "
   ]
  },
  {
   "cell_type": "code",
   "execution_count": null,
   "id": "38f99611",
   "metadata": {},
   "outputs": [],
   "source": [
    "## Priyanka ##\n",
    "\n",
    "### Catchment settings\n",
    "catchment_kwargs = {}\n",
    "catchment_kwargs[\"num\"] = \"709\"\n",
    "catchment_kwargs[\"tau\"] = 0.5\n",
    "catchment_kwargs[\"timestep\"]= 5      # for timestep >1 use CNN rolling or Unet\n",
    "catchment_kwargs[\"sample_type\"]=\"single\"\n",
    "catchment_kwargs[\"dim_patch\"]=256\n",
    "catchment_kwargs[\"fix_indexes\"]=True\n",
    "catchment_kwargs[\"border_size\"] = 0\n",
    "catchment_kwargs[\"normalize_output\"] = False\n",
    "catchment_kwargs[\"use_diff_dem\"] = False\n",
    "catchment_kwargs[\"num_patch\"] = 10      # number of patches to generate from a timestep\n",
    "catchment_kwargs[\"predict_ahead\"] = 12"
   ]
  },
  {
   "cell_type": "code",
   "execution_count": null,
   "id": "5969338d",
   "metadata": {},
   "outputs": [],
   "source": [
    "## Model 1 ##\n",
    "parser1 = argparse.ArgumentParser(description=\"evaluation\")\n",
    "parser1.add_argument('--n_head', type=int, default=16)\n",
    "str_args1 = [\"--n_head=8\"]\n",
    "args_m1 = parser1.parse_args(str_args1)\n",
    "\n",
    "## Model 2 for CNN ##\n",
    "# parser2 = argparse.ArgumentParser(description=\"evaluation\")\n",
    "# parser.add_argument(\"--catchment_kwargs\", default='./default_catchment_kwargs.yml', type=str, \n",
    "#                     help=\"path to catchment kwargs saved in yml file\")\n",
    "# exp_hp = ['--catchment_kwargs=../mlflood/exp_yml/exp_cnn.yml']\n",
    "# args_m2 = parser.parse_args(exp_hp)\n",
    "# with open(args.catchment_kwargs) as file:\n",
    "#     catchment_kwargs = yaml.full_load(file)\n",
    "# catchment_kwargs['fix_indexes'] = True \n",
    "\n",
    "## Model 3 ##\n",
    "parser3 = argparse.ArgumentParser(description=\"evaluation\")\n",
    "parser3.add_argument('--n_head', type=int, default=16)\n",
    "str_args3 = [\"--n_head=32\"]\n",
    "args_m3 = parser3.parse_args(str_args3)\n",
    "\n",
    "## Model 4 ##\n",
    "parser4 = argparse.ArgumentParser(description=\"evaluation\")\n",
    "parser4.add_argument('--n_head', type=int, default=16)\n",
    "str_args4 = [\"--n_head=64\"]\n",
    "args_m4 = parser4.parse_args(str_args4)"
   ]
  },
  {
   "cell_type": "code",
   "execution_count": null,
   "id": "64596b18",
   "metadata": {
    "scrolled": true,
    "tags": []
   },
   "outputs": [],
   "source": [
    "\n",
    "model_utae = UTAE(args_m1)  # You don't need args in UTAE\n",
    "file_path1 = path_exp_utae + \"model.pth.tar\"\n",
    "model_utae.load_state_dict(torch.load(file_path1))\n",
    "model_utae.cuda()\n",
    "\n",
    "# model_cnn_1 = CNNrolling(args, catchment_kwargs)  # You don't need args in UTAE\n",
    "# file_path1 = path_exp_cnn_1 + \"model.pth.tar\"\n",
    "# model.load_state_dict(torch.load(file_path1))\n",
    "# model.cuda()\n",
    "\n",
    "model_cnn = UTAE_old(args)\n",
    "file_path1 = path_exp_cnn + \"model.pth.tar\"\n",
    "model_cnn.load_state_dict(torch.load(file_path1))\n",
    "model_cnn.cuda()\n",
    "\n",
    "#model_unet = UNet(args)  \n",
    "model_unet = UTAE(args_m3)\n",
    "file_path1 = path_exp_unet + \"model.pth.tar\"\n",
    "model_unet.load_state_dict(torch.load(file_path1))\n",
    "model_unet.cuda()\n",
    "\n",
    "#utae_64\n",
    "model_utae64 = UTAE(args_m4)  # You don't need args in UTAE\n",
    "file_path1 = path_exp_utae64 + \"model.pth.tar\"\n",
    "model_utae64.load_state_dict(torch.load(file_path1))\n",
    "model_utae64.cuda()"
   ]
  },
  {
   "cell_type": "code",
   "execution_count": null,
   "id": "2fea2861",
   "metadata": {},
   "outputs": [],
   "source": [
    "dataloaders = {}\n",
    "dataset = load_test_dataset(catchment_kwargs)\n",
    "                                                             \n",
    "dataloaders[\"test\"] = dataloader_args_utae_test(dataset, catchment_num = catchment_kwargs['num'])\n",
    "dataset_test = dataloaders[\"test\"]"
   ]
  },
  {
   "cell_type": "markdown",
   "id": "191b3b09",
   "metadata": {},
   "source": [
    "## A. 12-step ahead"
   ]
  },
  {
   "cell_type": "code",
   "execution_count": null,
   "id": "b9f51d86",
   "metadata": {},
   "outputs": [],
   "source": [
    "event_num = 0\n",
    "start_ts = 5\n",
    "\n",
    "pred_utae, gt_utae, mask_utae = predict_event(model_utae, dataset, event_num, 'utae', start_ts=None, ar = False, T = None)\n",
    "pred_cnn, gt_cnn, mask_cnn = predict_event(model_cnn, dataset, event_num, 'cnn', start_ts=None, ar = False, T = None)\n"
   ]
  },
  {
   "cell_type": "code",
   "execution_count": null,
   "id": "41f19585",
   "metadata": {},
   "outputs": [],
   "source": [
    "del model_utae, model_cnn\n",
    "pred_unet, gt_unet, mask_unet = predict_event(model_unet, dataset, event_num, 'utae_32', start_ts=None, ar = False, T = None)\n",
    "pred_utae64, gt_utae64, mask_utae64 = predict_event(model_utae64, dataset, event_num, 'utae_64', start_ts=None, ar = False, T = None)\n"
   ]
  },
  {
   "cell_type": "code",
   "execution_count": null,
   "id": "d6492ca5",
   "metadata": {},
   "outputs": [],
   "source": [
    "# what are we plotting here? let's make sure the x axis is correct (timesteps) anf the y axis (cm or meters?)"
   ]
  },
  {
   "cell_type": "code",
   "execution_count": null,
   "id": "a5906a2b",
   "metadata": {},
   "outputs": [],
   "source": [
    "save_folder = \"/scratch2/ml_flood/data/checkpoints/709/cluster/may_24/utae_head_8/experiment_0/results/\""
   ]
  },
  {
   "cell_type": "code",
   "execution_count": null,
   "id": "c2ca6527",
   "metadata": {},
   "outputs": [],
   "source": [
    "mae_utae = mae_event(pred_utae, gt_utae, mask_utae)\n",
    "mae_cnn = mae_event(pred_cnn, gt_cnn, mask_cnn)\n",
    "mae_unet = mae_event(pred_unet, gt_unet, mask_unet)\n",
    "mae_utae64 = mae_event(pred_utae64, gt_utae64, mask_utae64)\n",
    "\n",
    "maes = [mae_utae, mae_cnn, mae_unet, mae_utae64]\n",
    "\n",
    "labels = ['utae_8', 'utae_16', 'utae_32', 'utae_64']\n",
    "plot_maes(maes, labels, start_ts=0, save_folder = save_folder, name = '12_ts_ahead', title = \"MAE for 12 ts ahead\")"
   ]
  },
  {
   "cell_type": "code",
   "execution_count": null,
   "id": "ca36fb83",
   "metadata": {},
   "outputs": [],
   "source": [
    "pred_ts = 12 # here it indicated how many timesteps ahead we are looking at. If None, all timesteps are computed"
   ]
  },
  {
   "cell_type": "code",
   "execution_count": null,
   "id": "45d342e3",
   "metadata": {},
   "outputs": [],
   "source": [
    "lims = (0.1,0.2, 0.5, 1)\n",
    "\n",
    "data_utae = boxplot_mae(pred_utae, gt_utae, mask_utae, lims=lims, pred_ts = pred_ts)\n",
    "data_cnn = boxplot_mae(pred_cnn, gt_cnn, mask_cnn, lims=lims, pred_ts = pred_ts)\n",
    "data_unet = boxplot_mae(pred_unet, gt_unet, mask_unet, lims=lims, pred_ts = pred_ts)\n",
    "data_utae64 = boxplot_mae(pred_utae64, gt_utae64, mask_utae64, lims=lims, pred_ts = pred_ts)"
   ]
  },
  {
   "cell_type": "code",
   "execution_count": null,
   "id": "f0e1e016",
   "metadata": {},
   "outputs": [],
   "source": [
    "ticks = ['0-10 cm', '10-20 cm', '20-50cm', '50-100cm','>100cm']\n",
    "#labels = ['cnn', 'graph', 'baseline']\n",
    "labels = ['utae_8', 'utae_16', 'utae_32', 'utae_64']\n",
    "colors = ['#EF8A62', '#67A9CF', '#1B9E77', '#CA0020', '#998EC3']\n",
    "data = [data_utae, data_cnn,  data_unet, data_utae64]\n",
    "\n",
    "multiboxplot(data, ticks, labels, colors, save_folder = save_folder, name = '1ts_ahead', title = \"Multiboxplots for models utae with n_heads=[8,16,32]\")"
   ]
  },
  {
   "cell_type": "code",
   "execution_count": null,
   "id": "cff09e4e",
   "metadata": {},
   "outputs": [],
   "source": [
    "model_name = 'unet'\n",
    "data = data_unet\n",
    "\n",
    "fig, ax = plt.subplots(figsize = [12,5])\n",
    "ax.set_ylabel('Absolute Error (cm)')\n",
    "ax.set_xlabel('Water Depth')\n",
    "flierprops = dict(marker='d', markerfacecolor='black', markersize=4, linestyle='none', markeredgecolor='black')\n",
    "bp = ax.boxplot(data, showfliers=False, patch_artist=True, flierprops=flierprops)                                #‘Hide Outlier Points’\n",
    "ax.set_xticklabels(ticks)\n",
    "plt.title(\"Visualization for model {} \".format(model_name), fontsize = 14 ,fontweight=\"bold\")\n",
    "# filename = save_folder + 'Mae_boxplot_1_ts_ahead_' + model_name + '.png'\n",
    "# plt.savefig(filename, dpi=1200)\n",
    "\n"
   ]
  },
  {
   "cell_type": "code",
   "execution_count": null,
   "id": "14fda466",
   "metadata": {},
   "outputs": [],
   "source": [
    "zoom = [500,1000,500,1000]\n",
    "plot_answer_sample(pred_utae, gt_utae, mask_utae, ts=12, zoom=zoom, show_diff=False, global_scale=True, save_folder = save_folder, model_name = '12ts_ahead_utae8')\n",
    "plot_answer_sample(pred_cnn, gt_cnn, mask_cnn, ts=12, zoom=zoom, show_diff=False, global_scale=True, save_folder = save_folder, model_name = '12ts_ahead_utae16')\n",
    "plot_answer_sample(pred_unet, gt_unet, mask_unet, ts=12, zoom=zoom, show_diff=False, global_scale=True, save_folder = save_folder, model_name = '12ts_ahead_utae32')\n",
    "plot_answer_sample(pred_utae64, gt_utae64, mask_utae64, ts=12, zoom=zoom, show_diff=False, global_scale=True, save_folder = save_folder, model_name = '12ts_ahead_utae64')"
   ]
  },
  {
   "cell_type": "markdown",
   "id": "56182e2a",
   "metadata": {
    "tags": []
   },
   "source": [
    "## OTHER MODELS comparison"
   ]
  },
  {
   "cell_type": "code",
   "execution_count": null,
   "id": "9f440d73",
   "metadata": {},
   "outputs": [],
   "source": [
    "path_exp_utae = \"/scratch2/ml_flood/data/checkpoints/709/cluster/may_24/utae_head_32/experiment_0/\"   # best performing utae\n",
    "\n",
    "path_exp_utae64 = \"/scratch2/ml_flood/data/checkpoints/709/cluster/may_24/utae_head_64/experiment_0/\"\n",
    "\n",
    "#path_exp_cnn = \"/scratch2/ml_flood/data/checkpoints/709/cnn_temp/experiment_3/\" #does not work for stefania during predictions\n",
    "\n",
    "path_exp_unet = \"/scratch2/ml_flood/data/checkpoints/709/cluster/apr_22/unet_L1_upd/experiment_0/\"   #does not work for stefania during loading of model\n",
    "\n",
    "path_exp_unet3d = \"/scratch2/ml_flood/data/checkpoints/709/cluster/apr_22/unet3d_L1/experiment_0/\""
   ]
  },
  {
   "cell_type": "code",
   "execution_count": null,
   "id": "1d8f42af",
   "metadata": {},
   "outputs": [],
   "source": [
    "## Priyanka ##\n",
    "\n",
    "### Catchment settings\n",
    "catchment_kwargs = {}\n",
    "catchment_kwargs[\"num\"] = \"709\"\n",
    "catchment_kwargs[\"tau\"] = 0.5\n",
    "catchment_kwargs[\"timestep\"]= 5      # for timestep >1 use CNN rolling or Unet\n",
    "catchment_kwargs[\"sample_type\"]=\"single\"\n",
    "catchment_kwargs[\"dim_patch\"]=256\n",
    "catchment_kwargs[\"fix_indexes\"]=True\n",
    "catchment_kwargs[\"border_size\"] = 0\n",
    "catchment_kwargs[\"normalize_output\"] = False\n",
    "catchment_kwargs[\"use_diff_dem\"] = False\n",
    "catchment_kwargs[\"num_patch\"] = 10      # number of patches to generate from a timestep\n",
    "catchment_kwargs[\"predict_ahead\"] = 12"
   ]
  },
  {
   "cell_type": "code",
   "execution_count": null,
   "id": "25957f69",
   "metadata": {},
   "outputs": [],
   "source": [
    "## Model UTAE ##\n",
    "parser1 = argparse.ArgumentParser(description=\"evaluation\")\n",
    "parser1.add_argument('--n_head', type=int, default=16)\n",
    "str_args1 = [\"--n_head=32\"]\n",
    "args_m1 = parser1.parse_args(str_args1)\n",
    "\n",
    "## Model 2 ##\n",
    "parser2 = argparse.ArgumentParser(description=\"evaluation\")\n",
    "parser2.add_argument('--n_head', type=int, default=16)\n",
    "str_args2 = [\"--n_head=64\"]\n",
    "args_m2 = parser2.parse_args(str_args2)\n",
    "\n",
    "## Model 3 ##\n",
    "args = []\n",
    "\n",
    "## Model 4 ##\n",
    "args = []"
   ]
  },
  {
   "cell_type": "code",
   "execution_count": null,
   "id": "e6e81f98",
   "metadata": {},
   "outputs": [],
   "source": [
    "model_utae = UTAE(args_m1) \n",
    "file_path1 = path_exp_utae + \"model.pth.tar\"\n",
    "model_utae.load_state_dict(torch.load(file_path1))\n",
    "model_utae.cuda()\n",
    "\n",
    "#model_cnn = CNNrolling(args)\n",
    "#file_path1 = path_exp_cnn + \"model.pth.tar\"\n",
    "#model_cnn.load_state_dict(torch.load(file_path1))\n",
    "#model_cnn.cuda()\n",
    "\n",
    "model_unet = UNet(args)\n",
    "file_path1 = path_exp_unet + \"model.pth.tar\"\n",
    "model_unet.load_state_dict(torch.load(file_path1))\n",
    "model_unet.cuda()\n",
    "\n",
    "model_unet3d = UNet3D(args)\n",
    "file_path1 = path_exp_unet3d + \"model.pth.tar\"\n",
    "model_unet3d.load_state_dict(torch.load(file_path1))\n",
    "model_unet3d.cuda()\n",
    "\n",
    "#utae_64\n",
    "model_utae64 = UTAE(args_m2)  # You don't need args in UTAE\n",
    "file_path1 = path_exp_utae64 + \"model.pth.tar\"\n",
    "model_utae64.load_state_dict(torch.load(file_path1))\n",
    "model_utae64.cuda()\n"
   ]
  },
  {
   "cell_type": "code",
   "execution_count": null,
   "id": "3f6349df",
   "metadata": {},
   "outputs": [],
   "source": [
    "dataloaders = {}\n",
    "dataset = load_test_dataset(catchment_kwargs)\n",
    "                                                             \n",
    "dataloaders[\"test\"] = dataloader_args_utae_test(dataset, catchment_num = catchment_kwargs['num'])\n",
    "dataset_test = dataloaders[\"test\"]\n",
    "\n",
    "## for unet need different dataset\n",
    "dataloaders_u = {}\n",
    "dataset_u = load_test_unet(catchment_kwargs)\n",
    "                                                             \n",
    "dataloaders_u[\"test\"] = dataloader_args_test(dataset_u, catchment_num = catchment_kwargs['num'])\n",
    "dataset_test_u = dataloaders_u[\"test\"]"
   ]
  },
  {
   "cell_type": "code",
   "execution_count": null,
   "id": "ab562165",
   "metadata": {},
   "outputs": [],
   "source": [
    "# Change model string in predict_event acccordingly to the model used\n",
    "\n",
    "event_num = 0\n",
    "start_ts = None\n",
    "\n",
    "pred_utae, gt_utae, mask_utae = predict_event(model_utae, dataset, event_num, 'utae', start_ts=None, ar = False, T = None)\n"
   ]
  },
  {
   "cell_type": "code",
   "execution_count": null,
   "id": "9ad96924",
   "metadata": {},
   "outputs": [],
   "source": [
    "pred_unet3d, gt_unet3d, mask_unet3d = predict_event(model_unet3d, dataset, event_num, 'unet3d', start_ts=None, ar = False, T = None)"
   ]
  },
  {
   "cell_type": "code",
   "execution_count": null,
   "id": "e3474692",
   "metadata": {},
   "outputs": [],
   "source": [
    "pred_unet, gt_unet, mask_unet = predict_event(model_unet, dataset_u, event_num, 'unet', start_ts=None, ar = False, T = None)\n",
    "pred_unet.shape"
   ]
  },
  {
   "cell_type": "code",
   "execution_count": null,
   "id": "ce320ede",
   "metadata": {},
   "outputs": [],
   "source": [
    "pred_utae64, gt_utae64, mask_utae64 = predict_event(model_utae64, dataset, event_num, 'utae_64', start_ts=None, ar = False, T = None)"
   ]
  },
  {
   "cell_type": "code",
   "execution_count": null,
   "id": "e86cef98",
   "metadata": {},
   "outputs": [],
   "source": [
    "save_folder = \"/scratch2/ml_flood/data/checkpoints/709/cluster/apr_22/unet3d_L1_upd/experiment_0/results/\""
   ]
  },
  {
   "cell_type": "code",
   "execution_count": null,
   "id": "beb57d48",
   "metadata": {},
   "outputs": [],
   "source": [
    "mae_utae = mae_event(pred_utae, gt_utae, mask_utae)\n",
    "mae_unet = mae_event(pred_unet, gt_unet, mask_unet)\n",
    "mae_unet3d = mae_event(pred_unet3d, gt_unet3d, mask_unet3d)\n",
    "mae_utae64 = mae_event(pred_utae64, gt_utae64, mask_utae64)\n",
    "\n",
    "maes = [mae_utae, mae_unet, mae_unet3d, mae_utae64]\n",
    "\n",
    "labels = ['utae_32', 'unet' , 'unet3d', 'utae_64']\n",
    "plot_maes(maes, labels, start_ts=17, save_folder = save_folder, name = '12_ts_ahead', title = \"MAE for 12 ts ahead\")"
   ]
  },
  {
   "cell_type": "code",
   "execution_count": null,
   "id": "d60e241d",
   "metadata": {},
   "outputs": [],
   "source": [
    "pred_ts = 12 # here it indicated how many timesteps ahead we are looking at. If None, all timesteps are computed"
   ]
  },
  {
   "cell_type": "code",
   "execution_count": null,
   "id": "df8661d7",
   "metadata": {},
   "outputs": [],
   "source": [
    "lims = (0.1,0.2, 0.5, 1)\n",
    "\n",
    "data_utae = boxplot_mae(pred_utae, gt_utae, mask_utae, lims=lims, pred_ts = pred_ts)\n",
    "data_unet = boxplot_mae(pred_unet, gt_unet, mask_unet, lims=lims, pred_ts = pred_ts)\n",
    "data_unet3d = boxplot_mae(pred_unet3d, gt_unet3d, mask_unet3d, lims=lims, pred_ts = pred_ts)\n",
    "data_utae64 = boxplot_mae(pred_utae64, gt_utae64, mask_utae64, lims=lims, pred_ts = pred_ts)"
   ]
  },
  {
   "cell_type": "code",
   "execution_count": null,
   "id": "9a20fa49",
   "metadata": {},
   "outputs": [],
   "source": [
    "ticks = ['0-10 cm', '10-20 cm', '20-50cm', '50-100cm','>100cm']\n",
    "colors = ['#EF8A62', '#67A9CF', '#1B9E77', '#CA0020', '#998EC3']\n",
    "data = [data_utae,  data_unet, data_unet3d, data_utae64]\n",
    "\n",
    "multiboxplot(data, ticks, labels, colors, save_folder = save_folder, name = '1ts_ahead', title = \"Multiboxplots for models utae, unet and unet3d\")"
   ]
  },
  {
   "cell_type": "code",
   "execution_count": null,
   "id": "f34de280",
   "metadata": {},
   "outputs": [],
   "source": [
    "model_name = 'utae_32'\n",
    "data = data_utae\n",
    "\n",
    "fig, ax = plt.subplots(figsize = [12,5])\n",
    "ax.set_ylabel('Absolute Error (cm)')\n",
    "ax.set_xlabel('Water Depth')\n",
    "flierprops = dict(marker='d', markerfacecolor='black', markersize=4, linestyle='none', markeredgecolor='black')\n",
    "bp = ax.boxplot(data, showfliers=False, patch_artist=True, flierprops=flierprops)                                #‘Hide Outlier Points’\n",
    "ax.set_xticklabels(ticks)\n",
    "plt.title(\"Visualization for model {} \".format(model_name), fontsize = 14 ,fontweight=\"bold\")\n",
    "filename = save_folder + 'Mae_boxplot_1_ts_ahead_' + model_name + '.png'\n",
    "plt.savefig(filename, dpi=1200)\n",
    "\n"
   ]
  },
  {
   "cell_type": "code",
   "execution_count": null,
   "id": "9833362e",
   "metadata": {},
   "outputs": [],
   "source": [
    "zoom = [500,1000,500,1000]\n",
    "ts = 12\n",
    "plot_answer_sample(pred_utae, gt_utae, mask_utae, ts=ts, zoom=zoom, show_diff=False, global_scale=True, save_folder = save_folder, model_name = '1ts_ahead_utae32')\n",
    "plot_answer_sample(pred_unet, gt_unet, mask_unet, ts=ts, zoom=zoom, show_diff=False, global_scale=True, save_folder = save_folder, model_name = '1ts_ahead_unet')\n",
    "plot_answer_sample(pred_unet3d, gt_unet3d, mask_unet3d, ts=ts, zoom=zoom, show_diff=False, global_scale=True, save_folder = save_folder, model_name = '1ts_ahead_unet3d')\n",
    "plot_answer_sample(pred_utae64, gt_utae64, mask_utae64, ts=ts, zoom=zoom, show_diff=False, global_scale=True, save_folder = save_folder, model_name = '1ts_ahead_utae64')"
   ]
  },
  {
   "cell_type": "code",
   "execution_count": null,
   "id": "effcaf0d",
   "metadata": {},
   "outputs": [],
   "source": [
    "zoom = [500,1000,500,1000]\n",
    "ts = 10\n",
    "plot_answer_sample(pred_utae, gt_utae, mask_utae, ts=ts, zoom=None, show_diff=False, global_scale=True, save_folder = save_folder, model_name = '1ts_ahead_utae32')\n",
    "plot_answer_sample(pred_unet, gt_unet, mask_unet, ts=ts, zoom=None, show_diff=False, global_scale=True, save_folder = save_folder, model_name = '1ts_ahead_unet')\n",
    "plot_answer_sample(pred_unet3d, gt_unet3d, mask_unet3d, ts=ts, zoom=None, show_diff=False, global_scale=True, save_folder = save_folder, model_name = '1ts_ahead_unet3d')\n",
    "plot_answer_sample(pred_utae64, gt_utae64, mask_utae64, ts=ts, zoom=None, show_diff=False, global_scale=True, save_folder = save_folder, model_name = '1ts_ahead_utae64')"
   ]
  },
  {
   "cell_type": "markdown",
   "id": "9256a500",
   "metadata": {},
   "source": [
    "## Weighted loss comparison"
   ]
  },
  {
   "cell_type": "code",
   "execution_count": null,
   "id": "ef8eb4a3",
   "metadata": {},
   "outputs": [],
   "source": [
    "path_exp_wo = \"/scratch2/ml_flood/data/checkpoints/709/cluster/apr_22/utae_L1/experiment_0/\"\n",
    "\n",
    "path_exp_with = \"/scratch2/ml_flood/data/checkpoints/709/cluster/apr_22/utae_L1_upd/experiment_0/\" "
   ]
  },
  {
   "cell_type": "code",
   "execution_count": null,
   "id": "eb8c5f36",
   "metadata": {},
   "outputs": [],
   "source": [
    "## Priyanka ##\n",
    "\n",
    "### Catchment settings\n",
    "catchment_kwargs = {}\n",
    "catchment_kwargs[\"num\"] = \"709\"\n",
    "catchment_kwargs[\"tau\"] = 0.5\n",
    "catchment_kwargs[\"timestep\"]= 5      # for timestep >1 use CNN rolling or Unet\n",
    "catchment_kwargs[\"sample_type\"]=\"single\"\n",
    "catchment_kwargs[\"dim_patch\"]=256\n",
    "catchment_kwargs[\"fix_indexes\"]=True\n",
    "catchment_kwargs[\"border_size\"] = 0\n",
    "catchment_kwargs[\"normalize_output\"] = False\n",
    "catchment_kwargs[\"use_diff_dem\"] = False\n",
    "catchment_kwargs[\"num_patch\"] = 10      # number of patches to generate from a timestep\n",
    "catchment_kwargs[\"predict_ahead\"] = 12"
   ]
  },
  {
   "cell_type": "code",
   "execution_count": null,
   "id": "4dd1fbce",
   "metadata": {},
   "outputs": [],
   "source": [
    "## Model 1&2 ##\n",
    "args = []"
   ]
  },
  {
   "cell_type": "code",
   "execution_count": null,
   "id": "983af50e",
   "metadata": {},
   "outputs": [],
   "source": [
    "model_wo = UTAE_old(args)\n",
    "file_path1 = path_exp_wo + \"model.pth.tar\"\n",
    "model_wo.load_state_dict(torch.load(file_path1))\n",
    "model_wo.cuda()\n",
    "\n",
    "model_with = UTAE_old(args)\n",
    "file_path1 = path_exp_with + \"model.pth.tar\"\n",
    "model_with.load_state_dict(torch.load(file_path1))\n",
    "model_with.cuda()"
   ]
  },
  {
   "cell_type": "code",
   "execution_count": null,
   "id": "58d37752",
   "metadata": {},
   "outputs": [],
   "source": [
    "dataloaders = {}\n",
    "dataset = load_test_dataset(catchment_kwargs)\n",
    "                                                             \n",
    "dataloaders[\"test\"] = dataloader_args_utae_test(dataset, catchment_num = catchment_kwargs['num'])\n",
    "dataset_test = dataloaders[\"test\"]"
   ]
  },
  {
   "cell_type": "code",
   "execution_count": null,
   "id": "c641449e",
   "metadata": {},
   "outputs": [],
   "source": [
    "# Change model string in predict_event acccordingly to the model used\n",
    "\n",
    "event_num = 0\n",
    "start_ts = 5\n",
    "\n",
    "pred_utae, gt_utae, mask_utae = predict_event(model_wo, dataset, event_num, 'wo_wg_L1', start_ts=None, ar = False, T = None)\n",
    "pred_unet, gt_unet, mask_unet = predict_event(model_with, dataset, event_num, 'with_wg_L1', start_ts=None, ar = False, T = None)"
   ]
  },
  {
   "cell_type": "code",
   "execution_count": null,
   "id": "99e6232a",
   "metadata": {},
   "outputs": [],
   "source": [
    "save_folder = \"/scratch2/ml_flood/data/checkpoints/709/cluster/apr_22/utae_L1/experiment_0/results/\""
   ]
  },
  {
   "cell_type": "code",
   "execution_count": null,
   "id": "11d15fe6",
   "metadata": {},
   "outputs": [],
   "source": [
    "mae_utae = mae_event(pred_utae, gt_utae, mask_utae)\n",
    "mae_unet = mae_event(pred_unet, gt_unet, mask_unet)\n",
    "\n",
    "maes = [mae_utae , mae_unet]\n",
    "\n",
    "labels = ['wo_wg_L1', 'with_wg_L1']\n",
    "plot_maes(maes, labels, start_ts=17, save_folder = save_folder, name = '12_ts_ahead', title = \"MAE for 12 ts ahead\")"
   ]
  },
  {
   "cell_type": "code",
   "execution_count": null,
   "id": "6e40069b",
   "metadata": {},
   "outputs": [],
   "source": [
    "pred_ts = 12 # here it indicated how many timesteps ahead we are looking at. If None, all timesteps are computed"
   ]
  },
  {
   "cell_type": "code",
   "execution_count": null,
   "id": "d0eb8409",
   "metadata": {},
   "outputs": [],
   "source": [
    "lims = (0.1,0.2, 0.5, 1)\n",
    "\n",
    "data_utae = boxplot_mae(pred_utae, gt_utae, mask_utae, lims=lims, pred_ts = pred_ts)\n",
    "data_unet = boxplot_mae(pred_unet, gt_unet, mask_unet, lims=lims, pred_ts = pred_ts)"
   ]
  },
  {
   "cell_type": "code",
   "execution_count": null,
   "id": "9f2fb7f8",
   "metadata": {},
   "outputs": [],
   "source": [
    "ticks = ['0-10 cm', '10-20 cm', '20-50cm', '50-100cm','>100cm']\n",
    "colors = ['#EF8A62', '#67A9CF', '#1B9E77', '#CA0020', '#998EC3']\n",
    "data = [data_utae,  data_unet]\n",
    "\n",
    "multiboxplot(data, ticks, labels, colors, save_folder = save_folder, name = '1ts_ahead', title = \"Multiboxplots for models UTAE with and without weighted loss\")"
   ]
  },
  {
   "cell_type": "code",
   "execution_count": null,
   "id": "96c80741",
   "metadata": {},
   "outputs": [],
   "source": [
    "zoom = [500,1000,500,1000]\n",
    "ts = 12\n",
    "plot_answer_sample(pred_utae, gt_utae, mask_utae, ts=ts, zoom=zoom, show_diff=False, global_scale=True, save_folder = save_folder, model_name = '1ts_ahead_utae')\n",
    "plot_answer_sample(pred_unet, gt_unet, mask_unet, ts=ts, zoom=zoom, show_diff=False, global_scale=True, save_folder = save_folder, model_name = '1ts_ahead_unet3d')"
   ]
  },
  {
   "cell_type": "code",
   "execution_count": null,
   "id": "7f215c1d",
   "metadata": {},
   "outputs": [],
   "source": [
    "zoom = [500,1000,500,1000]\n",
    "ts = 14\n",
    "plot_answer_sample(pred_utae, gt_utae, mask_utae, ts=ts, zoom=None, show_diff=False, global_scale=True, save_folder = save_folder, model_name = '1ts_ahead_utae-wo')\n",
    "plot_answer_sample(pred_unet, gt_unet, mask_unet, ts=ts, zoom=None, show_diff=False, global_scale=True, save_folder = save_folder, model_name = '1ts_ahead_utae-with')"
   ]
  },
  {
   "cell_type": "markdown",
   "id": "37257e43",
   "metadata": {},
   "source": [
    "## Comparison tau = 0.5 and tau = 0.01"
   ]
  },
  {
   "cell_type": "code",
   "execution_count": null,
   "id": "283d6113",
   "metadata": {},
   "outputs": [],
   "source": [
    "path_exp_05 = \"/scratch2/ml_flood/data/checkpoints/709/cluster/apr_22/utae_L1_upd/experiment_0/\" \n",
    "\n",
    "path_exp_01 = \"/scratch2/ml_flood/data/checkpoints/709/cluster/apr_22/utae_L1_upd_tau/experiment_0/\""
   ]
  },
  {
   "cell_type": "code",
   "execution_count": null,
   "id": "f6f686c3",
   "metadata": {},
   "outputs": [],
   "source": [
    "## Priyanka ##\n",
    "\n",
    "### Catchment settings\n",
    "catchment_kwargs = {}\n",
    "catchment_kwargs[\"num\"] = \"709\"\n",
    "catchment_kwargs[\"tau\"] = 0.5\n",
    "catchment_kwargs[\"timestep\"]= 5      # for timestep >1 use CNN rolling or Unet\n",
    "catchment_kwargs[\"sample_type\"]=\"single\"\n",
    "catchment_kwargs[\"dim_patch\"]=256\n",
    "catchment_kwargs[\"fix_indexes\"]=True\n",
    "catchment_kwargs[\"border_size\"] = 0\n",
    "catchment_kwargs[\"normalize_output\"] = False\n",
    "catchment_kwargs[\"use_diff_dem\"] = False\n",
    "catchment_kwargs[\"num_patch\"] = 10      # number of patches to generate from a timestep\n",
    "catchment_kwargs[\"predict_ahead\"] = 12"
   ]
  },
  {
   "cell_type": "code",
   "execution_count": null,
   "id": "3774d4e5",
   "metadata": {},
   "outputs": [],
   "source": [
    "## Model 1&2 ##\n",
    "args = []"
   ]
  },
  {
   "cell_type": "code",
   "execution_count": null,
   "id": "c67f1581",
   "metadata": {},
   "outputs": [],
   "source": [
    "model_05 = UTAE_old(args)\n",
    "file_path1 = path_exp_05 + \"model.pth.tar\"\n",
    "model_05.load_state_dict(torch.load(file_path1))\n",
    "model_05.cuda()\n",
    "\n",
    "model_001 = UTAE_old(args)\n",
    "file_path1 = path_exp_01 + \"model.pth.tar\"\n",
    "model_001.load_state_dict(torch.load(file_path1))\n",
    "model_001.cuda()"
   ]
  },
  {
   "cell_type": "code",
   "execution_count": null,
   "id": "2d24e82a",
   "metadata": {},
   "outputs": [],
   "source": [
    "dataloaders = {}\n",
    "dataset = load_test_dataset(catchment_kwargs)\n",
    "                                                             \n",
    "dataloaders[\"test\"] = dataloader_args_utae_test(dataset, catchment_num = catchment_kwargs['num'])\n",
    "dataset_test = dataloaders[\"test\"]"
   ]
  },
  {
   "cell_type": "code",
   "execution_count": null,
   "id": "4e35c149",
   "metadata": {},
   "outputs": [],
   "source": [
    "# Change model string in predict_event acccordingly to the model used\n",
    "\n",
    "event_num = 0\n",
    "start_ts = 5\n",
    "\n",
    "pred_utae, gt_utae, mask_utae = predict_event(model_05, dataset, event_num, 'tau=0.5', start_ts=None, ar = False, T = None)\n",
    "pred_unet, gt_unet, mask_unet = predict_event(model_001, dataset, event_num, 'tau=0.01', start_ts=None, ar = False, T = None)"
   ]
  },
  {
   "cell_type": "code",
   "execution_count": null,
   "id": "2671b850",
   "metadata": {},
   "outputs": [],
   "source": [
    "save_folder = \"/scratch2/ml_flood/data/checkpoints/709/cluster/apr_22/utae_L1_upd_tau/experiment_0/results/\""
   ]
  },
  {
   "cell_type": "code",
   "execution_count": null,
   "id": "af1694eb",
   "metadata": {},
   "outputs": [],
   "source": [
    "mae_utae = mae_event(pred_utae, gt_utae, mask_utae)\n",
    "mae_unet = mae_event(pred_unet, gt_unet, mask_unet)\n",
    "\n",
    "maes = [mae_utae , mae_unet]\n",
    "\n",
    "labels = ['tau=0.5', 'tau=0.01']\n",
    "plot_maes(maes, labels, start_ts=17, save_folder = save_folder, name = '12_ts_ahead', title = \"MAE for 12 ts ahead\")"
   ]
  },
  {
   "cell_type": "code",
   "execution_count": null,
   "id": "c4d2d8c6",
   "metadata": {},
   "outputs": [],
   "source": [
    "pred_ts = 12 # here it indicated how many timesteps ahead we are looking at. If None, all timesteps are computed"
   ]
  },
  {
   "cell_type": "code",
   "execution_count": null,
   "id": "d4032cf1",
   "metadata": {},
   "outputs": [],
   "source": [
    "lims = (0.1,0.2, 0.5, 1)\n",
    "\n",
    "data_utae = boxplot_mae(pred_utae, gt_utae, mask_utae, lims=lims, pred_ts = pred_ts)\n",
    "data_unet = boxplot_mae(pred_unet, gt_unet, mask_unet, lims=lims, pred_ts = pred_ts)"
   ]
  },
  {
   "cell_type": "code",
   "execution_count": null,
   "id": "606ed0f5",
   "metadata": {},
   "outputs": [],
   "source": [
    "ticks = ['0-10 cm', '10-20 cm', '20-50cm', '50-100cm','>100cm']\n",
    "colors = ['#EF8A62', '#67A9CF', '#1B9E77', '#CA0020', '#998EC3']\n",
    "data = [data_utae,  data_unet]\n",
    "\n",
    "multiboxplot(data, ticks, labels, colors, save_folder = save_folder, name = '1ts_ahead', title = \"Multiboxplots for models UTAE with and without weighted loss\")"
   ]
  },
  {
   "cell_type": "code",
   "execution_count": null,
   "id": "421db9b4",
   "metadata": {},
   "outputs": [],
   "source": [
    "zoom = [500,1000,500,1000]\n",
    "ts = 12\n",
    "plot_answer_sample(pred_utae, gt_utae, mask_utae, ts=ts, zoom=zoom, show_diff=False, global_scale=True, save_folder = save_folder, model_name = '1ts_ahead_tau0.5')\n",
    "plot_answer_sample(pred_unet, gt_unet, mask_unet, ts=ts, zoom=zoom, show_diff=False, global_scale=True, save_folder = save_folder, model_name = '1ts_ahead_tau0.01')"
   ]
  },
  {
   "cell_type": "code",
   "execution_count": null,
   "id": "9428ebd4",
   "metadata": {},
   "outputs": [],
   "source": [
    "zoom = [500,1000,500,1000]\n",
    "ts = 10\n",
    "plot_answer_sample(pred_utae, gt_utae, mask_utae, ts=ts, zoom=None, show_diff=False, global_scale=True, save_folder = None, model_name = '1ts_ahead_tau-0.5')\n",
    "plot_answer_sample(pred_unet, gt_unet, mask_unet, ts=ts, zoom=None, show_diff=False, global_scale=True, save_folder = None, model_name = '1ts_ahead_tau-0.01')"
   ]
  },
  {
   "cell_type": "code",
   "execution_count": null,
   "id": "2d494458",
   "metadata": {},
   "outputs": [],
   "source": []
  }
 ],
 "metadata": {
  "kernelspec": {
   "display_name": "MLflood",
   "language": "python",
   "name": "mlflood"
  },
  "language_info": {
   "codemirror_mode": {
    "name": "ipython",
    "version": 3
   },
   "file_extension": ".py",
   "mimetype": "text/x-python",
   "name": "python",
   "nbconvert_exporter": "python",
   "pygments_lexer": "ipython3",
   "version": "3.9.6"
  }
 },
 "nbformat": 4,
 "nbformat_minor": 5
}
