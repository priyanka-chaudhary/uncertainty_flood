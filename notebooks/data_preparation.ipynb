{
 "cells": [
  {
   "cell_type": "markdown",
   "id": "07cb5bb5",
   "metadata": {},
   "source": [
    "- Download data at\n",
    "- Insert path data as `data_path = /scratch2/data/4Real/709_raw/out/`\n",
    "- Rename folders tr10, tr2, tr5, tr20, tr50, tr100 as tr10-1, tr2-1....\n",
    "- Insery a path for saving the data\n",
    "- Run everything"
   ]
  },
  {
   "cell_type": "code",
   "execution_count": null,
   "id": "2c54b41c",
   "metadata": {},
   "outputs": [],
   "source": [
    "import linecache\n",
    "import gzip\n",
    "import numpy as np\n",
    "import matplotlib.pyplot as plt\n",
    "import os\n",
    "import numpy as np"
   ]
  },
  {
   "cell_type": "code",
   "execution_count": null,
   "id": "4c57640b",
   "metadata": {},
   "outputs": [],
   "source": [
    "# path of raw data\n",
    "data_path = '/scratch2/data/4Real/709_raw/out/'\n",
    "\n",
    " # will save the data here\n",
    "save_path = '/scratch2/data/4Real/'   \n",
    "folder_name = '709_new'         "
   ]
  },
  {
   "cell_type": "code",
   "execution_count": null,
   "id": "602abcd4",
   "metadata": {},
   "outputs": [],
   "source": [
    "# path of raw data\n",
    "data_path = '/scratch2/data/4Real/684/out/'\n",
    "\n",
    " # will save the data here\n",
    "save_path = '/scratch2/data/4Real/'   \n",
    "folder_name = '684_npy'  "
   ]
  },
  {
   "cell_type": "markdown",
   "id": "d8fca4b7",
   "metadata": {},
   "source": [
    "# Save out (ground truth) WD"
   ]
  },
  {
   "cell_type": "code",
   "execution_count": null,
   "id": "7761295c",
   "metadata": {},
   "outputs": [],
   "source": [
    "save_path = os.path.join(save_path, folder_name)\n",
    "if not os.path.exists(save_path):\n",
    "    os.mkdir(save_path) "
   ]
  },
  {
   "cell_type": "code",
   "execution_count": null,
   "id": "0f7f29ea",
   "metadata": {},
   "outputs": [],
   "source": [
    "# Timesteps\n",
    "t = np.arange(0, 18001, 300)"
   ]
  },
  {
   "cell_type": "code",
   "execution_count": null,
   "id": "c9a2ebea",
   "metadata": {
    "scrolled": true,
    "tags": []
   },
   "outputs": [],
   "source": [
    "for folder in os.listdir(data_path):\n",
    "    print(folder)\n",
    "    for strin in os.listdir(data_path + folder):\n",
    "        if strin.endswith('.gz'):\n",
    "            if ((strin.split('_')[2] == 'WDraster') & ('PEAK' not in strin)):       # do not add the PEAK values\n",
    "                if int(strin.split('_')[-1].split('.')[0]) in t:                     # omnly select timesteps in t\n",
    "                    folder_path = folder.split('-')[0] + '_' + folder.split('-')[1]     # all this mess is to stay consistent with the chosen names of the folders\n",
    "                    if not os.path.exists(os.path.join(save_path,folder_path)): \n",
    "                        os.mkdir(os.path.join(save_path,folder_path))       \n",
    "                    save_name = strin.split('.')[0] + '.npy'\n",
    "                    save_name = os.path.join(save_path, folder_path, save_name)\n",
    "\n",
    "                    path_WD = os.path.join(data_path, folder, strin)\n",
    "                    WD = np.loadtxt(path_WD, skiprows=6)\n",
    "\n",
    "                    np.save(save_name, WD)\n",
    "                    \n",
    "    # add a zeros only WD for the first timesteps\n",
    "    npy_zeros = np.zeros([WD.shape[0], WD.shape[1]])\n",
    "    save_name_zeros = strin.split('_')[0] + '_' + strin.split('_')[1] + '_' + strin.split('_')[2] + '_' + '0'+ '.npy'\n",
    "    save_name_zeros = os.path.join(save_path, folder_path, save_name_zeros)\n",
    "    np.save(save_name_zeros, npy_zeros)"
   ]
  },
  {
   "cell_type": "markdown",
   "id": "d55298a3",
   "metadata": {},
   "source": [
    "### Example visualization DEM file "
   ]
  },
  {
   "cell_type": "code",
   "execution_count": null,
   "id": "3aba3270",
   "metadata": {},
   "outputs": [],
   "source": [
    "data_path = '/scratch2/data/4Real/709_raw/'\n",
    "ascii_grid = np.loadtxt(data_path + \"709_dem_asc.asc\", skiprows=6)"
   ]
  },
  {
   "cell_type": "code",
   "execution_count": null,
   "id": "8800b8fa",
   "metadata": {},
   "outputs": [],
   "source": [
    "ascii_info = []    \n",
    "[ascii_info.append((linecache.getline(data_path + \"709_dem_asc.asc\", i)).replace('\\n' ,'')) for i in np.arange(7)]\n",
    "ascii_info"
   ]
  },
  {
   "cell_type": "code",
   "execution_count": null,
   "id": "364e2b8b",
   "metadata": {},
   "outputs": [],
   "source": [
    "ascii_grid[ascii_grid==-9999.]=np.nan\n",
    "np.nan_to_num(ascii_grid,copy=False)  "
   ]
  },
  {
   "cell_type": "code",
   "execution_count": null,
   "id": "bcbebd69",
   "metadata": {},
   "outputs": [],
   "source": [
    "plt.imshow(ascii_grid)\n",
    "plt.colorbar()\n",
    "plt.show()"
   ]
  }
 ],
 "metadata": {
  "kernelspec": {
   "display_name": "MLflood",
   "language": "python",
   "name": "mlflood"
  },
  "language_info": {
   "codemirror_mode": {
    "name": "ipython",
    "version": 3
   },
   "file_extension": ".py",
   "mimetype": "text/x-python",
   "name": "python",
   "nbconvert_exporter": "python",
   "pygments_lexer": "ipython3",
   "version": "3.9.6"
  }
 },
 "nbformat": 4,
 "nbformat_minor": 5
}
