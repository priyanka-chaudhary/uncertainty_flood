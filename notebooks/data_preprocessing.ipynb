{
 "cells": [
  {
   "cell_type": "code",
   "execution_count": null,
   "metadata": {},
   "outputs": [],
   "source": [
    "%load_ext autoreload\n",
    "%autoreload 2\n",
    "%matplotlib inline"
   ]
  },
  {
   "cell_type": "code",
   "execution_count": null,
   "metadata": {},
   "outputs": [],
   "source": [
    "import sys\n",
    "sys.path.insert(0, '../')\n"
   ]
  },
  {
   "cell_type": "code",
   "execution_count": null,
   "metadata": {},
   "outputs": [],
   "source": [
    "from tqdm import tqdm\n",
    "import json\n",
    "from pathlib import Path\n",
    "from mlflood.conf import PATH_GENERATED\n",
    "import h5py\n",
    "import numpy as np\n",
    "import matplotlib.pyplot as plt\n",
    "from mlflood.preprocess import build_dataset\n"
   ]
  },
  {
   "cell_type": "code",
   "execution_count": null,
   "metadata": {},
   "outputs": [],
   "source": [
    "catchment_num = \"toy\"\n",
    "# catchment_num = \"709\"\n",
    "\n",
    "# catchment_num = \"709_new\"\n",
    "# catchment_num = \"684\"\n",
    "\n",
    "# catchment_num = \"709wall\"\n",
    "# catchment_num = \"709wall_0threshold\"\n",
    "# catchment_num = \"709_0threshold\""
   ]
  },
  {
   "cell_type": "markdown",
   "metadata": {},
   "source": [
    "# Creating the h5 files"
   ]
  },
  {
   "cell_type": "code",
   "execution_count": null,
   "metadata": {},
   "outputs": [],
   "source": [
    "build_dataset(catchment_num)"
   ]
  },
  {
   "cell_type": "markdown",
   "metadata": {},
   "source": [
    "# Analysing the dataset"
   ]
  },
  {
   "cell_type": "code",
   "execution_count": null,
   "metadata": {},
   "outputs": [],
   "source": [
    "name = \"train\"\n",
    "with h5py.File(PATH_GENERATED / Path(catchment_num + \"-\" + name+\".h5\"), 'r') as f:\n",
    "    dem = f[\"dem\"][()]\n",
    "    mask = f[\"mask\"][()]\n",
    "    event_name = f[\"event_name\"][()]\n",
    "    timesteps = []\n",
    "    waterdepth = []\n",
    "    rainfall_events = []\n",
    "    for k in filter(lambda x: \"timesteps\"==x[:9],  sorted(f.keys())):\n",
    "        timesteps.append(f[k][()])\n",
    "    for k in filter(lambda x: \"waterdepth\"==x[:10],  sorted(f.keys())):\n",
    "        waterdepth.append(f[k][()])\n",
    "    for k in filter(lambda x: \"rainfall_events\"==x[:15],  sorted(f.keys())):\n",
    "        rainfall_events.append(f[k][()])\n"
   ]
  },
  {
   "cell_type": "code",
   "execution_count": null,
   "metadata": {},
   "outputs": [],
   "source": [
    "# waterdepth = np.concatenate(waterdepth)\n",
    "# rainfall_events = np.concatenate(rainfall_events)\n",
    "# timesteps = np.concatenate(timesteps)"
   ]
  },
  {
   "cell_type": "code",
   "execution_count": null,
   "metadata": {},
   "outputs": [],
   "source": [
    "plt.imshow(dem)\n",
    "plt.colorbar()"
   ]
  },
  {
   "cell_type": "code",
   "execution_count": null,
   "metadata": {},
   "outputs": [],
   "source": [
    "plt.imshow(mask)\n",
    "plt.colorbar()"
   ]
  },
  {
   "cell_type": "code",
   "execution_count": null,
   "metadata": {},
   "outputs": [],
   "source": [
    "k = 24\n",
    "for t, re in zip(timesteps, rainfall_events):\n",
    "    plt.plot(t[:k], re[:k])\n",
    "plt.title(\"Rainfall events\")\n",
    "plt.xlabel('Timesteps')\n",
    "plt.ylabel('Rainfall (mm)')"
   ]
  },
  {
   "cell_type": "code",
   "execution_count": null,
   "metadata": {},
   "outputs": [],
   "source": [
    "def print_stat(x):\n",
    "    print(np.min(x), np.max(x), np.mean(x), np.std(x))"
   ]
  },
  {
   "cell_type": "code",
   "execution_count": null,
   "metadata": {},
   "outputs": [],
   "source": [
    "waterdepth = [w[:,mask.astype(bool)] for w in waterdepth]"
   ]
  },
  {
   "cell_type": "code",
   "execution_count": null,
   "metadata": {},
   "outputs": [],
   "source": [
    "print_stat(np.concatenate(waterdepth))"
   ]
  },
  {
   "cell_type": "code",
   "execution_count": null,
   "metadata": {},
   "outputs": [],
   "source": [
    "plt.hist(np.concatenate(waterdepth).flatten(), 100);\n",
    "plt.yscale(\"log\")"
   ]
  },
  {
   "cell_type": "code",
   "execution_count": null,
   "metadata": {},
   "outputs": [],
   "source": [
    "diff_waterdepth = [np.diff(w, axis=0) for w in waterdepth]"
   ]
  },
  {
   "cell_type": "code",
   "execution_count": null,
   "metadata": {},
   "outputs": [],
   "source": [
    "print_stat(np.concatenate(diff_waterdepth))"
   ]
  },
  {
   "cell_type": "code",
   "execution_count": null,
   "metadata": {},
   "outputs": [],
   "source": [
    "plt.hist(np.concatenate(diff_waterdepth).flatten(), 100);\n",
    "plt.yscale(\"log\")"
   ]
  },
  {
   "cell_type": "code",
   "execution_count": null,
   "metadata": {},
   "outputs": [],
   "source": [
    "[(np.mean(w[-1,:]) - np.mean(w[0,:]))/(w.shape[0] -1) for w in waterdepth]"
   ]
  },
  {
   "cell_type": "code",
   "execution_count": null,
   "metadata": {},
   "outputs": [],
   "source": []
  },
  {
   "cell_type": "code",
   "execution_count": null,
   "metadata": {},
   "outputs": [],
   "source": []
  },
  {
   "cell_type": "code",
   "execution_count": null,
   "metadata": {},
   "outputs": [],
   "source": []
  }
 ],
 "metadata": {
  "interpreter": {
   "hash": "11bc0e077dd1f66009a37e95033a44e9687d2cbe7708eaf38c24c0670cc167b9"
  },
  "kernelspec": {
   "display_name": "MLflood",
   "language": "python",
   "name": "mlflood"
  },
  "language_info": {
   "codemirror_mode": {
    "name": "ipython",
    "version": 3
   },
   "file_extension": ".py",
   "mimetype": "text/x-python",
   "name": "python",
   "nbconvert_exporter": "python",
   "pygments_lexer": "ipython3",
   "version": "3.9.6"
  }
 },
 "nbformat": 4,
 "nbformat_minor": 4
}
