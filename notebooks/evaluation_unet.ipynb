{
 "cells": [
  {
   "cell_type": "code",
   "execution_count": null,
   "metadata": {},
   "outputs": [],
   "source": [
    "from PIL import Image\n",
    "import numpy as np\n",
    "import matplotlib.pyplot as plt\n",
    "import matplotlib\n",
    "import json\n",
    "import time\n",
    "import copy\n",
    "import linecache\n",
    "import gzip\n",
    "import pickle\n",
    "import itertools\n",
    "from sklearn.preprocessing import MinMaxScaler\n",
    "import datetime\n",
    "from torchsummary import summary\n",
    "from torch.utils.tensorboard import SummaryWriter\n",
    "import torch\n",
    "from torch import nn, optim\n",
    "from torch.utils.data import TensorDataset, DataLoader\n",
    "from torch.utils.data.dataset import Dataset\n",
    "from torch.nn import functional as F\n",
    "\n",
    "import sys, argparse, os\n",
    "import numpy as np\n",
    "import random\n",
    "import sys, argparse, os\n",
    "\n",
    "import torch.nn.functional as F\n",
    "import torch.utils.data as torchdata\n",
    "\n",
    "import sys\n",
    "sys.path.insert(0, '../')\n",
    "sys.path.append(\"/scratch2/ml_flood/mlflood/\")\n",
    "from pathlib import Path\n",
    "from mlflood.conf import PATH_DATA\n",
    "from mlflood.conf import rain_const, waterdepth_diff_const\n",
    "import h5py\n",
    "import pandas as pd\n",
    "\n",
    "from torch.utils.tensorboard import SummaryWriter\n",
    "from mlflood.utils import new_log\n",
    "from models.utae import UTAE\n",
    "from models.CNNrolling import CNNrolling\n",
    "from models.unet3d import UNet3D\n",
    "from models.unet import UNet\n",
    "from dataset import load_test_dataset, dataloader_args_test\n",
    "\n",
    "from training import *\n",
    "#from developing_suite4 import *"
   ]
  },
  {
   "cell_type": "code",
   "execution_count": null,
   "metadata": {},
   "outputs": [],
   "source": [
    "path_exp = \"/scratch2/ml_flood/data/checkpoints/709/cluster/unet_l1/experiment_0/\"\n",
    "path_exp = \"/scratch2/ml_flood/data/checkpoints/709/unet_temp/experiment_2/\""
   ]
  },
  {
   "cell_type": "code",
   "execution_count": null,
   "metadata": {},
   "outputs": [],
   "source": [
    "device = torch.device(\"cuda\" if torch.cuda.is_available() else \"cpu\")\n",
    "print('Using: ', device)\n",
    "args = []   "
   ]
  },
  {
   "cell_type": "code",
   "execution_count": null,
   "metadata": {},
   "outputs": [],
   "source": [
    "parser = argparse.ArgumentParser(description=\"evaluation\")\n",
    "parser.add_argument(\"--catchment_kwargs\", default='./default_catchment_kwargs.yml', type=str, \n",
    "                    help=\"path to catchment kwargs saved in yml file\")\n",
    "\n",
    "exp_hp = ['--catchment_kwargs=../mlflood/exp_yml/exp_9_utae.yml']\n",
    "args = parser.parse_args(exp_hp)\n",
    "\n",
    "with open(args.catchment_kwargs) as file:\n",
    "    catchment_kwargs = yaml.full_load(file)\n",
    "    \n",
    "# Always in eval mode\n",
    "catchment_kwargs['fix_indexes'] = True "
   ]
  },
  {
   "cell_type": "code",
   "execution_count": null,
   "metadata": {},
   "outputs": [],
   "source": [
    "dataloaders = {}\n",
    "dataset = load_test_dataset(catchment_kwargs)\n",
    "                                                             \n",
    "dataloaders[\"test\"] = dataloader_args_test(dataset, catchment_num = catchment_kwargs['num'])\n",
    "dataset_test = dataloaders[\"test\"]"
   ]
  },
  {
   "cell_type": "code",
   "execution_count": null,
   "metadata": {
    "scrolled": true,
    "tags": []
   },
   "outputs": [],
   "source": [
    "model = UNet(args)  \n",
    "file_path1 = path_exp + \"model.pth.tar\"\n",
    "model.load_state_dict(torch.load(file_path1))\n",
    "model.cuda()"
   ]
  },
  {
   "cell_type": "code",
   "execution_count": null,
   "metadata": {},
   "outputs": [],
   "source": [
    "from evaluation import predict_event \n",
    "\n",
    "event_num = 0\n",
    "start_ts = 5\n",
    "# timestep = 12\n",
    "\n",
    "pred_cnn, gt_cnn, mask_cnn = predict_event(model, dataset, event_num, 'unet', start_ts=5, ar = False, T = None)"
   ]
  },
  {
   "cell_type": "code",
   "execution_count": null,
   "metadata": {},
   "outputs": [],
   "source": [
    "zoom = [500,1000,500,1000]\n",
    "save_folder = \"/scratch2/ml_flood/data/checkpoints/709/cluster/utae_L1/experiment_0/results/c_recons/\"\n",
    "plot_answer_sample(pred_cnn, gt_cnn, mask_cnn, ts=1, zoom=None, show_diff=False, global_scale=True, save_folder = None, model_name = 'cnn')"
   ]
  },
  {
   "cell_type": "code",
   "execution_count": null,
   "metadata": {},
   "outputs": [],
   "source": [
    "zoom = [1500,2000,0,500]\n",
    "plot_answer_sample(pred_cnn, gt_cnn, mask_cnn, ts=1, zoom=zoom, show_diff=False, global_scale=True, save_folder = None, model_name = 'cnn')"
   ]
  }
 ],
 "metadata": {
  "kernelspec": {
   "display_name": "MLflood",
   "language": "python",
   "name": "mlflood"
  },
  "language_info": {
   "codemirror_mode": {
    "name": "ipython",
    "version": 3
   },
   "file_extension": ".py",
   "mimetype": "text/x-python",
   "name": "python",
   "nbconvert_exporter": "python",
   "pygments_lexer": "ipython3",
   "version": "3.9.6"
  }
 },
 "nbformat": 4,
 "nbformat_minor": 4
}
